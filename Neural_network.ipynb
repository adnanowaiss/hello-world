{
  "nbformat": 4,
  "nbformat_minor": 0,
  "metadata": {
    "colab": {
      "provenance": [],
      "authorship_tag": "ABX9TyM7/LXSsRFrPLAuy82VDrAy",
      "include_colab_link": true
    },
    "kernelspec": {
      "name": "python3",
      "display_name": "Python 3"
    },
    "language_info": {
      "name": "python"
    }
  },
  "cells": [
    {
      "cell_type": "markdown",
      "metadata": {
        "id": "view-in-github",
        "colab_type": "text"
      },
      "source": [
        "<a href=\"https://colab.research.google.com/github/adnanowaiss/hello-world/blob/master/Neural_network.ipynb\" target=\"_parent\"><img src=\"https://colab.research.google.com/assets/colab-badge.svg\" alt=\"Open In Colab\"/></a>"
      ]
    },
    {
      "cell_type": "code",
      "execution_count": 18,
      "metadata": {
        "id": "wmqftBqmxWWE"
      },
      "outputs": [],
      "source": [
        "import torch\n",
        "from torch import nn\n",
        "from torch.utils.data import DataLoader\n",
        "from torchvision import datasets\n",
        "from torchvision.transforms import ToTensor"
      ]
    },
    {
      "cell_type": "code",
      "source": [],
      "metadata": {
        "id": "Rb0wD0SNdVEZ"
      },
      "execution_count": 18,
      "outputs": []
    },
    {
      "cell_type": "code",
      "source": [
        "# download training data from the FashionMNISTdataset.\n",
        "training_data = datasets.FashionMNIST(\n",
        "    train=True,\n",
        "    transform=ToTensor(),\n",
        "    download=True,\n",
        "    root=\"data\"\n",
        ")"
      ],
      "metadata": {
        "id": "I78o6w8zyG_G"
      },
      "execution_count": 19,
      "outputs": []
    },
    {
      "cell_type": "code",
      "source": [
        "# download test data from the FashionMNIST dataset.\n",
        "test_data = datasets.FashionMNIST(\n",
        "    train=False,\n",
        "    transform=ToTensor(),\n",
        "    download=True,\n",
        "    root=\"data\"\n",
        ")"
      ],
      "metadata": {
        "id": "j0iDuLisyRhB"
      },
      "execution_count": 20,
      "outputs": []
    },
    {
      "cell_type": "code",
      "source": [
        "batch_size = 64\n",
        "\n",
        "# create data loaders\n",
        "training_loader = DataLoader(training_data, batch_size=batch_size)\n",
        "test_loader = DataLoader(test_data, batch_size=64)\n",
        "\n",
        "for X, y in test_loader:\n",
        "  print(f\"Shape of X [N C H W]: {X.shape}\")\n",
        "  print(f\"Shape of y: {y.shape} {y.dtype}\")\n",
        "  break"
      ],
      "metadata": {
        "colab": {
          "base_uri": "https://localhost:8080/"
        },
        "id": "EREWgruY0OZM",
        "outputId": "62cfd284-665b-4b88-eefa-df8c227afce6"
      },
      "execution_count": 21,
      "outputs": [
        {
          "output_type": "stream",
          "name": "stdout",
          "text": [
            "Shape of X [N C H W]: torch.Size([64, 1, 28, 28])\n",
            "Shape of y: torch.Size([64]) torch.int64\n"
          ]
        }
      ]
    },
    {
      "cell_type": "code",
      "source": [
        "# get cpu, gpu or mps device for training.\n",
        "device = (\n",
        "    \"cuda\"\n",
        "    if torch.cuda.is_available()\n",
        "    else \"mps\"\n",
        "    if torch.backends.mps.is_available()\n",
        "    else \"cpu\"\n",
        ")\n",
        "print(f\"Using {device} device\")"
      ],
      "metadata": {
        "colab": {
          "base_uri": "https://localhost:8080/"
        },
        "id": "gaFIcBJl1etB",
        "outputId": "951ecc8b-1ac6-478b-9655-bf0a68cfff1e"
      },
      "execution_count": 22,
      "outputs": [
        {
          "output_type": "stream",
          "name": "stdout",
          "text": [
            "Using cpu device\n"
          ]
        }
      ]
    },
    {
      "cell_type": "code",
      "source": [],
      "metadata": {
        "id": "nRnv3La2g9DM"
      },
      "execution_count": null,
      "outputs": []
    },
    {
      "cell_type": "code",
      "source": [
        "class NeuralNetwork(nn.Module):\n",
        "    def __init__(self):\n",
        "        super(NeuralNetwork, self).__init__()\n",
        "        self.Flatten = nn.Flatten()\n",
        "        self.linear_relu_stack = nn.Sequential(\n",
        "            nn.Linear(28*28, 512),\n",
        "            nn.ReLU(),\n",
        "            nn.Linear(512, 512),\n",
        "            nn.ReLU(),\n",
        "            nn.Linear(512, 10),\n",
        "        )\n",
        "\n",
        "    def forward(self, x):\n",
        "      x = self.Flatten(x)\n",
        "      logits = self.linear_relu_stack(x)\n",
        "      return logits"
      ],
      "metadata": {
        "id": "eA626lL9dDWP"
      },
      "execution_count": 23,
      "outputs": []
    },
    {
      "cell_type": "code",
      "source": [
        "device = torch.device('cuda' if torch.cuda.is_available() else 'cpu')\n",
        "model = NeuralNetwork().to(device)\n",
        "print(model)"
      ],
      "metadata": {
        "colab": {
          "base_uri": "https://localhost:8080/"
        },
        "id": "dvp_Fmzwdgwk",
        "outputId": "e7e5f34e-2c73-4bad-9692-ead409c9b851"
      },
      "execution_count": 24,
      "outputs": [
        {
          "output_type": "stream",
          "name": "stdout",
          "text": [
            "NeuralNetwork(\n",
            "  (Flatten): Flatten(start_dim=1, end_dim=-1)\n",
            "  (linear_relu_stack): Sequential(\n",
            "    (0): Linear(in_features=784, out_features=512, bias=True)\n",
            "    (1): ReLU()\n",
            "    (2): Linear(in_features=512, out_features=512, bias=True)\n",
            "    (3): ReLU()\n",
            "    (4): Linear(in_features=512, out_features=10, bias=True)\n",
            "  )\n",
            ")\n"
          ]
        }
      ]
    },
    {
      "cell_type": "code",
      "source": [
        "loss_fn = nn.CrossEntropyLoss()\n",
        "optimizer = torch.optim.SGD(model.parameters(), lr=1e-3, momentum=0.9)"
      ],
      "metadata": {
        "id": "nTXR6Ctae55y"
      },
      "execution_count": 25,
      "outputs": []
    },
    {
      "cell_type": "code",
      "source": [
        "def train(dataloader, model, loss_fn, optimizer):\n",
        "    size = len(dataloader.dataset)\n",
        "    print(f\"size: {size}\")\n",
        "    for batch, (X, y) in enumerate(dataloader):\n",
        "        X = X.to(device)  # Move input data to the device (GPU or CPU)\n",
        "        y = y.to(device)  # Move target labels to the device (GPU or CPU)\n",
        "        # compute predicted y by passing X to the model\n",
        "        prediction = model(X)\n",
        "        # compute the loss\n",
        "        loss = loss_fn(prediction, y)\n",
        "        #  apply zero gradients, perform a backward pass, and update the weights\n",
        "        optimizer.zero_grad()\n",
        "        loss.backward()\n",
        "        optimizer.step()\n",
        "        # print training progress\n",
        "        if batch % 100 == 0:\n",
        "            loss_value = loss.item()\n",
        "            current = batch * len(X)\n",
        "            print(f\"loss: {loss_value:>7f}  [{current:>5d}/{size:>5d}]\")\n"
      ],
      "metadata": {
        "id": "LPcUeLItfFv0"
      },
      "execution_count": 26,
      "outputs": []
    },
    {
      "cell_type": "code",
      "source": [
        "def test(dataloader, model, loss_fn):\n",
        "    size = len(dataloader.dataset)\n",
        "    num_batches = len(dataloader)\n",
        "    model.eval()\n",
        "    test_loss, correct = 0,0\n",
        "    with torch.no_grad():\n",
        "        for X, y in dataloader:\n",
        "            X = X.to(device)\n",
        "            y = y.to(device)\n",
        "            prediction = model(X)\n",
        "            test_loss += loss_fn(prediction, y).item()\n",
        "            correct += (prediction.argmax(1) == y).type(torch.float).sum().item()\n",
        "        test_loss /= num_batches\n",
        "        correct /= size\n",
        "    print(f\"Test Error: \\n Accuracy: {(100*correct):>0.1f}%, Avg loss: {test_loss:>8f} \\n\")"
      ],
      "metadata": {
        "id": "_i76u7XKfMcJ"
      },
      "execution_count": 27,
      "outputs": []
    },
    {
      "cell_type": "code",
      "source": [
        "epoch = 5\n",
        "for t in range(epoch):\n",
        "  print(f\"Epoch {t+1}\\n-------------------------------\")\n",
        "  train(training_loader, model, loss_fn, optimizer)\n",
        "  test(test_loader, model, loss_fn)\n",
        "print(\"Done!\")"
      ],
      "metadata": {
        "colab": {
          "base_uri": "https://localhost:8080/"
        },
        "id": "vntCDc4kfiFv",
        "outputId": "3a390223-a9a9-4163-b6f7-7c6da62ec6cf"
      },
      "execution_count": 28,
      "outputs": [
        {
          "output_type": "stream",
          "name": "stdout",
          "text": [
            "Epoch 1\n",
            "-------------------------------\n",
            "size: 60000\n",
            "loss: 2.312397  [    0/60000]\n",
            "loss: 2.205643  [ 6400/60000]\n",
            "loss: 1.903807  [12800/60000]\n",
            "loss: 1.603799  [19200/60000]\n",
            "loss: 1.243132  [25600/60000]\n",
            "loss: 1.125847  [32000/60000]\n",
            "loss: 1.035178  [38400/60000]\n",
            "loss: 0.902477  [44800/60000]\n",
            "loss: 0.902463  [51200/60000]\n",
            "loss: 0.823365  [57600/60000]\n",
            "Test Error: \n",
            " Accuracy: 69.8%, Avg loss: 0.815316 \n",
            "\n",
            "Epoch 2\n",
            "-------------------------------\n",
            "size: 60000\n",
            "loss: 0.830619  [    0/60000]\n",
            "loss: 0.867745  [ 6400/60000]\n",
            "loss: 0.600478  [12800/60000]\n",
            "loss: 0.818005  [19200/60000]\n",
            "loss: 0.688237  [25600/60000]\n",
            "loss: 0.649418  [32000/60000]\n",
            "loss: 0.708219  [38400/60000]\n",
            "loss: 0.691370  [44800/60000]\n",
            "loss: 0.706620  [51200/60000]\n",
            "loss: 0.643141  [57600/60000]\n",
            "Test Error: \n",
            " Accuracy: 78.0%, Avg loss: 0.638265 \n",
            "\n",
            "Epoch 3\n",
            "-------------------------------\n",
            "size: 60000\n",
            "loss: 0.575935  [    0/60000]\n",
            "loss: 0.664619  [ 6400/60000]\n",
            "loss: 0.434282  [12800/60000]\n",
            "loss: 0.690005  [19200/60000]\n",
            "loss: 0.603553  [25600/60000]\n",
            "loss: 0.570789  [32000/60000]\n",
            "loss: 0.579108  [38400/60000]\n",
            "loss: 0.654317  [44800/60000]\n",
            "loss: 0.658232  [51200/60000]\n",
            "loss: 0.547414  [57600/60000]\n",
            "Test Error: \n",
            " Accuracy: 80.1%, Avg loss: 0.562775 \n",
            "\n",
            "Epoch 4\n",
            "-------------------------------\n",
            "size: 60000\n",
            "loss: 0.473029  [    0/60000]\n",
            "loss: 0.573294  [ 6400/60000]\n",
            "loss: 0.370463  [12800/60000]\n",
            "loss: 0.623913  [19200/60000]\n",
            "loss: 0.556324  [25600/60000]\n",
            "loss: 0.530270  [32000/60000]\n",
            "loss: 0.517425  [38400/60000]\n",
            "loss: 0.666070  [44800/60000]\n",
            "loss: 0.643541  [51200/60000]\n",
            "loss: 0.477504  [57600/60000]\n",
            "Test Error: \n",
            " Accuracy: 81.4%, Avg loss: 0.524501 \n",
            "\n",
            "Epoch 5\n",
            "-------------------------------\n",
            "size: 60000\n",
            "loss: 0.413607  [    0/60000]\n",
            "loss: 0.529240  [ 6400/60000]\n",
            "loss: 0.337151  [12800/60000]\n",
            "loss: 0.580335  [19200/60000]\n",
            "loss: 0.513607  [25600/60000]\n",
            "loss: 0.500262  [32000/60000]\n",
            "loss: 0.483024  [38400/60000]\n",
            "loss: 0.668290  [44800/60000]\n",
            "loss: 0.627502  [51200/60000]\n",
            "loss: 0.433596  [57600/60000]\n",
            "Test Error: \n",
            " Accuracy: 82.1%, Avg loss: 0.501507 \n",
            "\n",
            "Done!\n"
          ]
        }
      ]
    },
    {
      "cell_type": "code",
      "source": [
        "torch.save(model.state_dict(), \"model.pth\")\n",
        "print(\"Saved PyTorch Model State to model.pth\")"
      ],
      "metadata": {
        "colab": {
          "base_uri": "https://localhost:8080/"
        },
        "id": "njJxLO_NhAQ8",
        "outputId": "f99ab3be-29f0-4a82-e74d-6c4ece445967"
      },
      "execution_count": 29,
      "outputs": [
        {
          "output_type": "stream",
          "name": "stdout",
          "text": [
            "Saved PyTorch Model State to model.pth\n"
          ]
        }
      ]
    },
    {
      "cell_type": "code",
      "source": [
        "classes = [\n",
        "    \"T-shirt/top\",\n",
        "    \"Trouser\",\n",
        "    \"Pullover\",\n",
        "    \"Dress\",\n",
        "    \"Coat\",\n",
        "    \"Sandal\",\n",
        "    \"Shirt\",\n",
        "    \"Sneaker\",\n",
        "    \"Bag\",\n",
        "    \"Ankle boot\",\n",
        "]\n",
        "\n",
        "# set model to evaluation mode\n",
        "model.eval()\n",
        "\n",
        "sample_index = 1  # sample Index (Change this index to select a different sample)\n",
        "x, y = test_data[sample_index][0], test_data[sample_index][1]\n",
        "\n",
        "# make prediction without gradient calculation\n",
        "with torch.no_grad():\n",
        "    x = x.to(device)\n",
        "    prediction = model(x.unsqueeze(0))\n",
        "\n",
        "    # get predicted and actual classes\n",
        "    predicted, actual = classes[prediction.argmax(dim=1).item()], classes[y]\n",
        "\n",
        "    print(f'Predicted: \"{predicted}\", Actual: \"{actual}\"')"
      ],
      "metadata": {
        "colab": {
          "base_uri": "https://localhost:8080/"
        },
        "id": "ZWpuSTDUhIBu",
        "outputId": "d879f4f6-6010-4404-8ed0-4fa26864ae4f"
      },
      "execution_count": 30,
      "outputs": [
        {
          "output_type": "stream",
          "name": "stdout",
          "text": [
            "Predicted: \"Pullover\", Actual: \"Pullover\"\n"
          ]
        }
      ]
    }
  ]
}